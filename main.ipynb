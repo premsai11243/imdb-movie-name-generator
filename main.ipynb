{
 "cells": [
  {
   "cell_type": "code",
   "execution_count": 2,
   "metadata": {},
   "outputs": [],
   "source": [
    "import joblib\n",
    "import pandas as pd\n",
    "import numpy as np\n",
    "import matplotlib.pyplot as plt \n",
    "import seaborn as sns\n",
    "import re\n",
    "import nltk\n",
    "from nltk.corpus import stopwords\n",
    "from nltk.tokenize import word_tokenize\n",
    "from sklearn.feature_extraction.text import TfidfVectorizer\n",
    "from sklearn.metrics.pairwise import cosine_similarity"
   ]
  },
  {
   "cell_type": "code",
   "execution_count": null,
   "metadata": {},
   "outputs": [
    {
     "data": {
      "text/html": [
       "<div>\n",
       "<style scoped>\n",
       "    .dataframe tbody tr th:only-of-type {\n",
       "        vertical-align: middle;\n",
       "    }\n",
       "\n",
       "    .dataframe tbody tr th {\n",
       "        vertical-align: top;\n",
       "    }\n",
       "\n",
       "    .dataframe thead th {\n",
       "        text-align: right;\n",
       "    }\n",
       "</style>\n",
       "<table border=\"1\" class=\"dataframe\">\n",
       "  <thead>\n",
       "    <tr style=\"text-align: right;\">\n",
       "      <th></th>\n",
       "      <th>name</th>\n",
       "      <th>story</th>\n",
       "      <th>genre</th>\n",
       "    </tr>\n",
       "  </thead>\n",
       "  <tbody>\n",
       "    <tr>\n",
       "      <th>0</th>\n",
       "      <td>1. Gladiator II</td>\n",
       "      <td>After his home is conquered by the tyrannical ...</td>\n",
       "      <td>Action</td>\n",
       "    </tr>\n",
       "    <tr>\n",
       "      <th>1</th>\n",
       "      <td>2. Sonic the Hedgehog 3</td>\n",
       "      <td>Sonic, Knuckles, and Tails reunite against a p...</td>\n",
       "      <td>Action</td>\n",
       "    </tr>\n",
       "    <tr>\n",
       "      <th>2</th>\n",
       "      <td>3. Pushpa: The Rule - Part 2</td>\n",
       "      <td>A smuggling kingpin faces off against a vengef...</td>\n",
       "      <td>Action</td>\n",
       "    </tr>\n",
       "    <tr>\n",
       "      <th>3</th>\n",
       "      <td>4. Kraven the Hunter</td>\n",
       "      <td>Kraven's complex relationship with his ruthles...</td>\n",
       "      <td>Action</td>\n",
       "    </tr>\n",
       "    <tr>\n",
       "      <th>4</th>\n",
       "      <td>5. Dune: Part Two</td>\n",
       "      <td>Paul Atreides unites with the Fremen while on ...</td>\n",
       "      <td>Action</td>\n",
       "    </tr>\n",
       "  </tbody>\n",
       "</table>\n",
       "</div>"
      ],
      "text/plain": [
       "                           name  \\\n",
       "0               1. Gladiator II   \n",
       "1       2. Sonic the Hedgehog 3   \n",
       "2  3. Pushpa: The Rule - Part 2   \n",
       "3          4. Kraven the Hunter   \n",
       "4             5. Dune: Part Two   \n",
       "\n",
       "                                               story   genre  \n",
       "0  After his home is conquered by the tyrannical ...  Action  \n",
       "1  Sonic, Knuckles, and Tails reunite against a p...  Action  \n",
       "2  A smuggling kingpin faces off against a vengef...  Action  \n",
       "3  Kraven's complex relationship with his ruthles...  Action  \n",
       "4  Paul Atreides unites with the Fremen while on ...  Action  "
      ]
     },
     "execution_count": 3,
     "metadata": {},
     "output_type": "execute_result"
    }
   ],
   "source": [
    "action=pd.read_csv(\"ActionMovies.csv\",index_col=0)#read csv\n",
    "action .head() # show dataframe first five"
   ]
  },
  {
   "cell_type": "code",
   "execution_count": null,
   "metadata": {},
   "outputs": [
    {
     "data": {
      "text/plain": [
       "(1083, 3)"
      ]
     },
     "execution_count": 4,
     "metadata": {},
     "output_type": "execute_result"
    }
   ],
   "source": [
    "action.shape # shape of data"
   ]
  },
  {
   "cell_type": "code",
   "execution_count": null,
   "metadata": {},
   "outputs": [
    {
     "data": {
      "text/html": [
       "<div>\n",
       "<style scoped>\n",
       "    .dataframe tbody tr th:only-of-type {\n",
       "        vertical-align: middle;\n",
       "    }\n",
       "\n",
       "    .dataframe tbody tr th {\n",
       "        vertical-align: top;\n",
       "    }\n",
       "\n",
       "    .dataframe thead th {\n",
       "        text-align: right;\n",
       "    }\n",
       "</style>\n",
       "<table border=\"1\" class=\"dataframe\">\n",
       "  <thead>\n",
       "    <tr style=\"text-align: right;\">\n",
       "      <th></th>\n",
       "      <th>name</th>\n",
       "      <th>story</th>\n",
       "      <th>genre</th>\n",
       "    </tr>\n",
       "  </thead>\n",
       "  <tbody>\n",
       "    <tr>\n",
       "      <th>0</th>\n",
       "      <td>1. Emilia Pérez</td>\n",
       "      <td>Emilia Pérez follows four remarkable women in ...</td>\n",
       "      <td>Crime</td>\n",
       "    </tr>\n",
       "    <tr>\n",
       "      <th>1</th>\n",
       "      <td>2. Babygirl</td>\n",
       "      <td>A high-powered CEO puts her career and family ...</td>\n",
       "      <td>Crime</td>\n",
       "    </tr>\n",
       "    <tr>\n",
       "      <th>2</th>\n",
       "      <td>3. Pushpa: The Rule - Part 2</td>\n",
       "      <td>A smuggling kingpin faces off against a vengef...</td>\n",
       "      <td>Crime</td>\n",
       "    </tr>\n",
       "    <tr>\n",
       "      <th>3</th>\n",
       "      <td>4. Juror #2</td>\n",
       "      <td>While serving as a juror in a high-profile mur...</td>\n",
       "      <td>Crime</td>\n",
       "    </tr>\n",
       "    <tr>\n",
       "      <th>4</th>\n",
       "      <td>5. The Calendar Killer</td>\n",
       "      <td>Klara is going to die today unless she kills h...</td>\n",
       "      <td>Crime</td>\n",
       "    </tr>\n",
       "  </tbody>\n",
       "</table>\n",
       "</div>"
      ],
      "text/plain": [
       "                           name  \\\n",
       "0               1. Emilia Pérez   \n",
       "1                   2. Babygirl   \n",
       "2  3. Pushpa: The Rule - Part 2   \n",
       "3                   4. Juror #2   \n",
       "4        5. The Calendar Killer   \n",
       "\n",
       "                                               story  genre  \n",
       "0  Emilia Pérez follows four remarkable women in ...  Crime  \n",
       "1  A high-powered CEO puts her career and family ...  Crime  \n",
       "2  A smuggling kingpin faces off against a vengef...  Crime  \n",
       "3  While serving as a juror in a high-profile mur...  Crime  \n",
       "4  Klara is going to die today unless she kills h...  Crime  "
      ]
     },
     "execution_count": 5,
     "metadata": {},
     "output_type": "execute_result"
    }
   ],
   "source": [
    "crime=pd.read_csv(\"CrimeMovies.csv\",index_col=0)# read csv\n",
    "crime.head()"
   ]
  },
  {
   "cell_type": "code",
   "execution_count": 6,
   "metadata": {},
   "outputs": [
    {
     "data": {
      "text/plain": [
       "(826, 3)"
      ]
     },
     "execution_count": 6,
     "metadata": {},
     "output_type": "execute_result"
    }
   ],
   "source": [
    "crime.shape"
   ]
  },
  {
   "cell_type": "code",
   "execution_count": null,
   "metadata": {},
   "outputs": [
    {
     "data": {
      "text/html": [
       "<div>\n",
       "<style scoped>\n",
       "    .dataframe tbody tr th:only-of-type {\n",
       "        vertical-align: middle;\n",
       "    }\n",
       "\n",
       "    .dataframe tbody tr th {\n",
       "        vertical-align: top;\n",
       "    }\n",
       "\n",
       "    .dataframe thead th {\n",
       "        text-align: right;\n",
       "    }\n",
       "</style>\n",
       "<table border=\"1\" class=\"dataframe\">\n",
       "  <thead>\n",
       "    <tr style=\"text-align: right;\">\n",
       "      <th></th>\n",
       "      <th>name</th>\n",
       "      <th>story</th>\n",
       "      <th>genre</th>\n",
       "    </tr>\n",
       "  </thead>\n",
       "  <tbody>\n",
       "    <tr>\n",
       "      <th>0</th>\n",
       "      <td>1. Gladiator II</td>\n",
       "      <td>After his home is conquered by the tyrannical ...</td>\n",
       "      <td>Action</td>\n",
       "    </tr>\n",
       "    <tr>\n",
       "      <th>1</th>\n",
       "      <td>2. Sonic the Hedgehog 3</td>\n",
       "      <td>Sonic, Knuckles, and Tails reunite against a p...</td>\n",
       "      <td>Action</td>\n",
       "    </tr>\n",
       "    <tr>\n",
       "      <th>2</th>\n",
       "      <td>3. Pushpa: The Rule - Part 2</td>\n",
       "      <td>A smuggling kingpin faces off against a vengef...</td>\n",
       "      <td>Action</td>\n",
       "    </tr>\n",
       "    <tr>\n",
       "      <th>3</th>\n",
       "      <td>4. Kraven the Hunter</td>\n",
       "      <td>Kraven's complex relationship with his ruthles...</td>\n",
       "      <td>Action</td>\n",
       "    </tr>\n",
       "    <tr>\n",
       "      <th>4</th>\n",
       "      <td>5. Dune: Part Two</td>\n",
       "      <td>Paul Atreides unites with the Fremen while on ...</td>\n",
       "      <td>Action</td>\n",
       "    </tr>\n",
       "    <tr>\n",
       "      <th>...</th>\n",
       "      <td>...</td>\n",
       "      <td>...</td>\n",
       "      <td>...</td>\n",
       "    </tr>\n",
       "    <tr>\n",
       "      <th>821</th>\n",
       "      <td>822. Detective Toaster</td>\n",
       "      <td>Picture me Roll'n is a movie about a Jamaican ...</td>\n",
       "      <td>Crime</td>\n",
       "    </tr>\n",
       "    <tr>\n",
       "      <th>822</th>\n",
       "      <td>823. Your Curse</td>\n",
       "      <td>If you are a killer, you will stay and if you ...</td>\n",
       "      <td>Crime</td>\n",
       "    </tr>\n",
       "    <tr>\n",
       "      <th>823</th>\n",
       "      <td>824. Tres Cruces</td>\n",
       "      <td>Faith has always been a guiding light for the ...</td>\n",
       "      <td>Crime</td>\n",
       "    </tr>\n",
       "    <tr>\n",
       "      <th>824</th>\n",
       "      <td>825. Kaçkin</td>\n",
       "      <td>Weg Naar Zee... a beautiful village located at...</td>\n",
       "      <td>Crime</td>\n",
       "    </tr>\n",
       "    <tr>\n",
       "      <th>825</th>\n",
       "      <td>826. Atithi</td>\n",
       "      <td>A solitary man, immersed in his everyday life ...</td>\n",
       "      <td>Crime</td>\n",
       "    </tr>\n",
       "  </tbody>\n",
       "</table>\n",
       "<p>1909 rows × 3 columns</p>\n",
       "</div>"
      ],
      "text/plain": [
       "                             name  \\\n",
       "0                 1. Gladiator II   \n",
       "1         2. Sonic the Hedgehog 3   \n",
       "2    3. Pushpa: The Rule - Part 2   \n",
       "3            4. Kraven the Hunter   \n",
       "4               5. Dune: Part Two   \n",
       "..                            ...   \n",
       "821        822. Detective Toaster   \n",
       "822               823. Your Curse   \n",
       "823              824. Tres Cruces   \n",
       "824                   825. Kaçkin   \n",
       "825                   826. Atithi   \n",
       "\n",
       "                                                 story   genre  \n",
       "0    After his home is conquered by the tyrannical ...  Action  \n",
       "1    Sonic, Knuckles, and Tails reunite against a p...  Action  \n",
       "2    A smuggling kingpin faces off against a vengef...  Action  \n",
       "3    Kraven's complex relationship with his ruthles...  Action  \n",
       "4    Paul Atreides unites with the Fremen while on ...  Action  \n",
       "..                                                 ...     ...  \n",
       "821  Picture me Roll'n is a movie about a Jamaican ...   Crime  \n",
       "822  If you are a killer, you will stay and if you ...   Crime  \n",
       "823  Faith has always been a guiding light for the ...   Crime  \n",
       "824  Weg Naar Zee... a beautiful village located at...   Crime  \n",
       "825  A solitary man, immersed in his everyday life ...   Crime  \n",
       "\n",
       "[1909 rows x 3 columns]"
      ]
     },
     "execution_count": 7,
     "metadata": {},
     "output_type": "execute_result"
    }
   ],
   "source": [
    "action_crime=pd.concat([action,crime]) # concat first action and crime\n",
    "action_crime"
   ]
  },
  {
   "cell_type": "code",
   "execution_count": null,
   "metadata": {},
   "outputs": [
    {
     "data": {
      "text/html": [
       "<div>\n",
       "<style scoped>\n",
       "    .dataframe tbody tr th:only-of-type {\n",
       "        vertical-align: middle;\n",
       "    }\n",
       "\n",
       "    .dataframe tbody tr th {\n",
       "        vertical-align: top;\n",
       "    }\n",
       "\n",
       "    .dataframe thead th {\n",
       "        text-align: right;\n",
       "    }\n",
       "</style>\n",
       "<table border=\"1\" class=\"dataframe\">\n",
       "  <thead>\n",
       "    <tr style=\"text-align: right;\">\n",
       "      <th></th>\n",
       "      <th>name</th>\n",
       "      <th>story</th>\n",
       "      <th>genre</th>\n",
       "    </tr>\n",
       "  </thead>\n",
       "  <tbody>\n",
       "    <tr>\n",
       "      <th>0</th>\n",
       "      <td>1. Emilia Pérez</td>\n",
       "      <td>Emilia Pérez follows four remarkable women in ...</td>\n",
       "      <td>Comedy</td>\n",
       "    </tr>\n",
       "    <tr>\n",
       "      <th>1</th>\n",
       "      <td>2. Anora</td>\n",
       "      <td>A young escort from Brooklyn meets and impulsi...</td>\n",
       "      <td>Comedy</td>\n",
       "    </tr>\n",
       "    <tr>\n",
       "      <th>2</th>\n",
       "      <td>3. A Real Pain</td>\n",
       "      <td>Mismatched cousins reunite for a tour through ...</td>\n",
       "      <td>Comedy</td>\n",
       "    </tr>\n",
       "    <tr>\n",
       "      <th>3</th>\n",
       "      <td>4. Sonic the Hedgehog 3</td>\n",
       "      <td>Sonic, Knuckles, and Tails reunite against a p...</td>\n",
       "      <td>Comedy</td>\n",
       "    </tr>\n",
       "    <tr>\n",
       "      <th>4</th>\n",
       "      <td>5. A Different Man</td>\n",
       "      <td>An aspiring actor undergoes a radical medical ...</td>\n",
       "      <td>Comedy</td>\n",
       "    </tr>\n",
       "  </tbody>\n",
       "</table>\n",
       "</div>"
      ],
      "text/plain": [
       "                      name                                              story  \\\n",
       "0          1. Emilia Pérez  Emilia Pérez follows four remarkable women in ...   \n",
       "1                 2. Anora  A young escort from Brooklyn meets and impulsi...   \n",
       "2           3. A Real Pain  Mismatched cousins reunite for a tour through ...   \n",
       "3  4. Sonic the Hedgehog 3  Sonic, Knuckles, and Tails reunite against a p...   \n",
       "4       5. A Different Man  An aspiring actor undergoes a radical medical ...   \n",
       "\n",
       "    genre  \n",
       "0  Comedy  \n",
       "1  Comedy  \n",
       "2  Comedy  \n",
       "3  Comedy  \n",
       "4  Comedy  "
      ]
     },
     "execution_count": 8,
     "metadata": {},
     "output_type": "execute_result"
    }
   ],
   "source": [
    "comedy=pd.read_csv(\"ComedyMovies.csv\",index_col=0) # read csv\n",
    "comedy.head()"
   ]
  },
  {
   "cell_type": "code",
   "execution_count": null,
   "metadata": {},
   "outputs": [],
   "source": [
    "action_crime_comedy=pd.concat([action_crime,comedy])\n",
    "# concat action_crime_comedy"
   ]
  },
  {
   "cell_type": "code",
   "execution_count": null,
   "metadata": {},
   "outputs": [
    {
     "data": {
      "text/html": [
       "<div>\n",
       "<style scoped>\n",
       "    .dataframe tbody tr th:only-of-type {\n",
       "        vertical-align: middle;\n",
       "    }\n",
       "\n",
       "    .dataframe tbody tr th {\n",
       "        vertical-align: top;\n",
       "    }\n",
       "\n",
       "    .dataframe thead th {\n",
       "        text-align: right;\n",
       "    }\n",
       "</style>\n",
       "<table border=\"1\" class=\"dataframe\">\n",
       "  <thead>\n",
       "    <tr style=\"text-align: right;\">\n",
       "      <th></th>\n",
       "      <th>name</th>\n",
       "      <th>story</th>\n",
       "      <th>genre</th>\n",
       "    </tr>\n",
       "  </thead>\n",
       "  <tbody>\n",
       "    <tr>\n",
       "      <th>0</th>\n",
       "      <td>1. Nosferatu</td>\n",
       "      <td>A gothic tale of obsession between a haunted y...</td>\n",
       "      <td>Horror</td>\n",
       "    </tr>\n",
       "    <tr>\n",
       "      <th>1</th>\n",
       "      <td>2. The Substance</td>\n",
       "      <td>A fading celebrity takes a black-market drug: ...</td>\n",
       "      <td>Horror</td>\n",
       "    </tr>\n",
       "    <tr>\n",
       "      <th>2</th>\n",
       "      <td>3. Alien: Romulus</td>\n",
       "      <td>While scavenging the deep ends of a derelict s...</td>\n",
       "      <td>Horror</td>\n",
       "    </tr>\n",
       "    <tr>\n",
       "      <th>3</th>\n",
       "      <td>4. Presence</td>\n",
       "      <td>A family becomes convinced they are not alone ...</td>\n",
       "      <td>Horror</td>\n",
       "    </tr>\n",
       "    <tr>\n",
       "      <th>4</th>\n",
       "      <td>5. Heretic</td>\n",
       "      <td>Two young religious women are drawn into a gam...</td>\n",
       "      <td>Horror</td>\n",
       "    </tr>\n",
       "  </tbody>\n",
       "</table>\n",
       "</div>"
      ],
      "text/plain": [
       "                name                                              story  \\\n",
       "0       1. Nosferatu  A gothic tale of obsession between a haunted y...   \n",
       "1   2. The Substance  A fading celebrity takes a black-market drug: ...   \n",
       "2  3. Alien: Romulus  While scavenging the deep ends of a derelict s...   \n",
       "3        4. Presence  A family becomes convinced they are not alone ...   \n",
       "4         5. Heretic  Two young religious women are drawn into a gam...   \n",
       "\n",
       "    genre  \n",
       "0  Horror  \n",
       "1  Horror  \n",
       "2  Horror  \n",
       "3  Horror  \n",
       "4  Horror  "
      ]
     },
     "execution_count": 10,
     "metadata": {},
     "output_type": "execute_result"
    }
   ],
   "source": [
    "horror=pd.read_csv(\"HorrorMovies.csv\",index_col=0) # read csv\n",
    "horror.head()"
   ]
  },
  {
   "cell_type": "code",
   "execution_count": null,
   "metadata": {},
   "outputs": [],
   "source": [
    "action_crime_comedy_horror=pd.concat([action_crime_comedy,horror]) # concat action_crime_comedy_horror"
   ]
  },
  {
   "cell_type": "code",
   "execution_count": null,
   "metadata": {},
   "outputs": [
    {
     "data": {
      "text/html": [
       "<div>\n",
       "<style scoped>\n",
       "    .dataframe tbody tr th:only-of-type {\n",
       "        vertical-align: middle;\n",
       "    }\n",
       "\n",
       "    .dataframe tbody tr th {\n",
       "        vertical-align: top;\n",
       "    }\n",
       "\n",
       "    .dataframe thead th {\n",
       "        text-align: right;\n",
       "    }\n",
       "</style>\n",
       "<table border=\"1\" class=\"dataframe\">\n",
       "  <thead>\n",
       "    <tr style=\"text-align: right;\">\n",
       "      <th></th>\n",
       "      <th>name</th>\n",
       "      <th>story</th>\n",
       "      <th>genre</th>\n",
       "    </tr>\n",
       "  </thead>\n",
       "  <tbody>\n",
       "    <tr>\n",
       "      <th>0</th>\n",
       "      <td>1. Nosferatu</td>\n",
       "      <td>A gothic tale of obsession between a haunted y...</td>\n",
       "      <td>Fantansy</td>\n",
       "    </tr>\n",
       "    <tr>\n",
       "      <th>1</th>\n",
       "      <td>2. Sonic the Hedgehog 3</td>\n",
       "      <td>Sonic, Knuckles, and Tails reunite against a p...</td>\n",
       "      <td>Fantansy</td>\n",
       "    </tr>\n",
       "    <tr>\n",
       "      <th>2</th>\n",
       "      <td>3. Wicked</td>\n",
       "      <td>Elphaba, a misunderstood young woman because o...</td>\n",
       "      <td>Fantansy</td>\n",
       "    </tr>\n",
       "    <tr>\n",
       "      <th>3</th>\n",
       "      <td>4. Mufasa: The Lion King</td>\n",
       "      <td>Mufasa, a cub lost and alone, meets a sympathe...</td>\n",
       "      <td>Fantansy</td>\n",
       "    </tr>\n",
       "    <tr>\n",
       "      <th>4</th>\n",
       "      <td>5. Better Man</td>\n",
       "      <td>The meteoric rise, dramatic fall, and remarkab...</td>\n",
       "      <td>Fantansy</td>\n",
       "    </tr>\n",
       "  </tbody>\n",
       "</table>\n",
       "</div>"
      ],
      "text/plain": [
       "                       name  \\\n",
       "0              1. Nosferatu   \n",
       "1   2. Sonic the Hedgehog 3   \n",
       "2                 3. Wicked   \n",
       "3  4. Mufasa: The Lion King   \n",
       "4             5. Better Man   \n",
       "\n",
       "                                               story     genre  \n",
       "0  A gothic tale of obsession between a haunted y...  Fantansy  \n",
       "1  Sonic, Knuckles, and Tails reunite against a p...  Fantansy  \n",
       "2  Elphaba, a misunderstood young woman because o...  Fantansy  \n",
       "3  Mufasa, a cub lost and alone, meets a sympathe...  Fantansy  \n",
       "4  The meteoric rise, dramatic fall, and remarkab...  Fantansy  "
      ]
     },
     "execution_count": 12,
     "metadata": {},
     "output_type": "execute_result"
    }
   ],
   "source": [
    "fantansy=pd.read_csv(\"FantansyMovies.csv\",index_col=0) # read csv\n",
    "fantansy.head()"
   ]
  },
  {
   "cell_type": "code",
   "execution_count": null,
   "metadata": {},
   "outputs": [],
   "source": [
    "# concat action_crime_comedy_horror_fantansy\n",
    "action_crime_comedy_horror_fantansy=pd.concat([action_crime_comedy_horror,fantansy],ignore_index=True)"
   ]
  },
  {
   "cell_type": "code",
   "execution_count": null,
   "metadata": {},
   "outputs": [
    {
     "data": {
      "text/plain": [
       "(6230, 3)"
      ]
     },
     "execution_count": 14,
     "metadata": {},
     "output_type": "execute_result"
    }
   ],
   "source": [
    "csv_files=action_crime_comedy_horror_fantansy # store action_crime_comedy_horror_fantansy to other variable for easy useablity\n",
    "csv_files.shape"
   ]
  },
  {
   "cell_type": "markdown",
   "metadata": {},
   "source": [
    "## Text Cleaning:"
   ]
  },
  {
   "cell_type": "code",
   "execution_count": null,
   "metadata": {},
   "outputs": [],
   "source": [
    "# Remove leading numbers followed by a dot and optional spaces from the 'name' column  \n",
    "csv_files[\"name\"]=csv_files['name'].str.replace(r\"^\\d+\\.\\s*\", \"\", regex=True)"
   ]
  },
  {
   "cell_type": "code",
   "execution_count": 16,
   "metadata": {},
   "outputs": [
    {
     "name": "stderr",
     "output_type": "stream",
     "text": [
      "[nltk_data] Downloading package punkt to\n",
      "[nltk_data]     C:\\Users\\Welcome\\AppData\\Roaming\\nltk_data...\n",
      "[nltk_data]   Package punkt is already up-to-date!\n",
      "[nltk_data] Downloading package stopwords to\n",
      "[nltk_data]     C:\\Users\\Welcome\\AppData\\Roaming\\nltk_data...\n",
      "[nltk_data]   Package stopwords is already up-to-date!\n",
      "[nltk_data] Downloading package wordnet to\n",
      "[nltk_data]     C:\\Users\\Welcome\\AppData\\Roaming\\nltk_data...\n",
      "[nltk_data]   Package wordnet is already up-to-date!\n",
      "[nltk_data] Downloading package punkt_tab to\n",
      "[nltk_data]     C:\\Users\\Welcome\\AppData\\Roaming\\nltk_data...\n",
      "[nltk_data]   Package punkt_tab is already up-to-date!\n"
     ]
    },
    {
     "data": {
      "text/plain": [
       "True"
      ]
     },
     "execution_count": 16,
     "metadata": {},
     "output_type": "execute_result"
    }
   ],
   "source": [
    "import string\n",
    "nltk.download('punkt')\n",
    "nltk.download('stopwords')\n",
    "nltk.download('wordnet')\n",
    "nltk.download('punkt_tab')"
   ]
  },
  {
   "cell_type": "code",
   "execution_count": 17,
   "metadata": {},
   "outputs": [],
   "source": [
    "def punctuation(text):\n",
    "    return text.lower()"
   ]
  },
  {
   "cell_type": "code",
   "execution_count": null,
   "metadata": {},
   "outputs": [],
   "source": [
    "# Remove patterns where a single character is followed by a dot and space (e.g., \"A. \")   \n",
    "csv_files['story'] = csv_files['story'].str.replace(r\"\\w\\.\\s\", \"\", regex=True)  \n",
    "\n",
    "# Remove parentheses (), square brackets [], and their contents from the text  \n",
    "csv_files['story'] = csv_files['story'].str.replace(r\"[\\(\\)\\[\\]]\", \"\", regex=True)  \n",
    "\n",
    "# Remove all punctuation characters from the text using `str.translate`  \n",
    "csv_files['story'] = csv_files['story'].str.translate(str.maketrans(\"\", \"\", string.punctuation))  \n"
   ]
  },
  {
   "cell_type": "code",
   "execution_count": null,
   "metadata": {},
   "outputs": [],
   "source": [
    "# Apply the `punctuation` function to clean or process punctuation further \n",
    "csv_files['story'] = csv_files['story'].apply(punctuation)"
   ]
  },
  {
   "cell_type": "code",
   "execution_count": null,
   "metadata": {},
   "outputs": [],
   "source": [
    "csv_files=csv_files.drop(columns=['genre']) # Removing  the genre"
   ]
  },
  {
   "cell_type": "code",
   "execution_count": null,
   "metadata": {},
   "outputs": [],
   "source": [
    "csv_files.to_csv(\"original file.csv\") # saving the file after cleaning"
   ]
  },
  {
   "cell_type": "code",
   "execution_count": 22,
   "metadata": {},
   "outputs": [
    {
     "data": {
      "text/html": [
       "<div>\n",
       "<style scoped>\n",
       "    .dataframe tbody tr th:only-of-type {\n",
       "        vertical-align: middle;\n",
       "    }\n",
       "\n",
       "    .dataframe tbody tr th {\n",
       "        vertical-align: top;\n",
       "    }\n",
       "\n",
       "    .dataframe thead th {\n",
       "        text-align: right;\n",
       "    }\n",
       "</style>\n",
       "<table border=\"1\" class=\"dataframe\">\n",
       "  <thead>\n",
       "    <tr style=\"text-align: right;\">\n",
       "      <th></th>\n",
       "      <th>name</th>\n",
       "      <th>story</th>\n",
       "    </tr>\n",
       "  </thead>\n",
       "  <tbody>\n",
       "    <tr>\n",
       "      <th>0</th>\n",
       "      <td>Gladiator II</td>\n",
       "      <td>after his home is conquered by the tyrannical ...</td>\n",
       "    </tr>\n",
       "    <tr>\n",
       "      <th>1</th>\n",
       "      <td>Sonic the Hedgehog 3</td>\n",
       "      <td>sonic knuckles and tails reunite against a pow...</td>\n",
       "    </tr>\n",
       "    <tr>\n",
       "      <th>2</th>\n",
       "      <td>Pushpa: The Rule - Part 2</td>\n",
       "      <td>a smuggling kingpin faces off against a vengef...</td>\n",
       "    </tr>\n",
       "    <tr>\n",
       "      <th>3</th>\n",
       "      <td>Kraven the Hunter</td>\n",
       "      <td>kravens complex relationship with his ruthless...</td>\n",
       "    </tr>\n",
       "    <tr>\n",
       "      <th>4</th>\n",
       "      <td>Dune: Part Two</td>\n",
       "      <td>paul atreides unites with the fremen while on ...</td>\n",
       "    </tr>\n",
       "    <tr>\n",
       "      <th>...</th>\n",
       "      <td>...</td>\n",
       "      <td>...</td>\n",
       "    </tr>\n",
       "    <tr>\n",
       "      <th>6225</th>\n",
       "      <td>I am Pandora</td>\n",
       "      <td>its the day of the dead and diego the cutest s...</td>\n",
       "    </tr>\n",
       "    <tr>\n",
       "      <th>6226</th>\n",
       "      <td>Les Écorchés - Partie 1</td>\n",
       "      <td>olaneyes parents present her with a strange bi...</td>\n",
       "    </tr>\n",
       "    <tr>\n",
       "      <th>6227</th>\n",
       "      <td>Four Walls</td>\n",
       "      <td>colos and the rest of the dke must work to sto...</td>\n",
       "    </tr>\n",
       "    <tr>\n",
       "      <th>6228</th>\n",
       "      <td>Kamilota</td>\n",
       "      <td>iszu edwin lopez  ring leader of the tennis te...</td>\n",
       "    </tr>\n",
       "    <tr>\n",
       "      <th>6229</th>\n",
       "      <td>Lo chiamavano Marcus</td>\n",
       "      <td>elder ikechukwu uses his superpower to repeate...</td>\n",
       "    </tr>\n",
       "  </tbody>\n",
       "</table>\n",
       "<p>6230 rows × 2 columns</p>\n",
       "</div>"
      ],
      "text/plain": [
       "                           name  \\\n",
       "0                  Gladiator II   \n",
       "1          Sonic the Hedgehog 3   \n",
       "2     Pushpa: The Rule - Part 2   \n",
       "3             Kraven the Hunter   \n",
       "4                Dune: Part Two   \n",
       "...                         ...   \n",
       "6225               I am Pandora   \n",
       "6226    Les Écorchés - Partie 1   \n",
       "6227                 Four Walls   \n",
       "6228                   Kamilota   \n",
       "6229       Lo chiamavano Marcus   \n",
       "\n",
       "                                                  story  \n",
       "0     after his home is conquered by the tyrannical ...  \n",
       "1     sonic knuckles and tails reunite against a pow...  \n",
       "2     a smuggling kingpin faces off against a vengef...  \n",
       "3     kravens complex relationship with his ruthless...  \n",
       "4     paul atreides unites with the fremen while on ...  \n",
       "...                                                 ...  \n",
       "6225  its the day of the dead and diego the cutest s...  \n",
       "6226  olaneyes parents present her with a strange bi...  \n",
       "6227  colos and the rest of the dke must work to sto...  \n",
       "6228  iszu edwin lopez  ring leader of the tennis te...  \n",
       "6229  elder ikechukwu uses his superpower to repeate...  \n",
       "\n",
       "[6230 rows x 2 columns]"
      ]
     },
     "execution_count": 22,
     "metadata": {},
     "output_type": "execute_result"
    }
   ],
   "source": [
    "csv_files"
   ]
  },
  {
   "cell_type": "code",
   "execution_count": null,
   "metadata": {},
   "outputs": [],
   "source": [
    "def token_stop_word(text):  \n",
    "    # Tokenize the input text into individual words\n",
    "    token_word = word_tokenize(text)  \n",
    "\n",
    "    # Get the set of English stopwords from NLTK\n",
    "    stop_words = set(stopwords.words(\"english\"))  \n",
    "\n",
    "    swap = []  # Create an empty list to store words after stopword removal\n",
    "\n",
    "    for i in token_word:  # Iterate through each tokenized word\n",
    "        if i not in stop_words:  # Check if the word is not in the stopwords list\n",
    "            swap.append(i)  # Add the word to the new list if it's not a stopword\n",
    "\n",
    "    return swap  # Return the list of words without stopwords\n"
   ]
  },
  {
   "cell_type": "code",
   "execution_count": null,
   "metadata": {},
   "outputs": [],
   "source": [
    "# Apply the 'token_stop_word' function to each value in the 'story' column\n",
    "csv_files['tokenized_stopwords_removed'] = csv_files['story'].apply(token_stop_word)"
   ]
  },
  {
   "cell_type": "code",
   "execution_count": 22,
   "metadata": {},
   "outputs": [
    {
     "data": {
      "text/html": [
       "<div>\n",
       "<style scoped>\n",
       "    .dataframe tbody tr th:only-of-type {\n",
       "        vertical-align: middle;\n",
       "    }\n",
       "\n",
       "    .dataframe tbody tr th {\n",
       "        vertical-align: top;\n",
       "    }\n",
       "\n",
       "    .dataframe thead th {\n",
       "        text-align: right;\n",
       "    }\n",
       "</style>\n",
       "<table border=\"1\" class=\"dataframe\">\n",
       "  <thead>\n",
       "    <tr style=\"text-align: right;\">\n",
       "      <th></th>\n",
       "      <th>name</th>\n",
       "      <th>story</th>\n",
       "      <th>genre</th>\n",
       "      <th>tokenized_stopwords_removed</th>\n",
       "    </tr>\n",
       "  </thead>\n",
       "  <tbody>\n",
       "    <tr>\n",
       "      <th>0</th>\n",
       "      <td>Gladiator II</td>\n",
       "      <td>after his home is conquered by the tyrannical ...</td>\n",
       "      <td>Action</td>\n",
       "      <td>[home, conquered, tyrannical, emperors, lead, ...</td>\n",
       "    </tr>\n",
       "    <tr>\n",
       "      <th>1</th>\n",
       "      <td>Sonic the Hedgehog 3</td>\n",
       "      <td>sonic knuckles and tails reunite against a pow...</td>\n",
       "      <td>Action</td>\n",
       "      <td>[sonic, knuckles, tails, reunite, powerful, ne...</td>\n",
       "    </tr>\n",
       "    <tr>\n",
       "      <th>2</th>\n",
       "      <td>Pushpa: The Rule - Part 2</td>\n",
       "      <td>a smuggling kingpin faces off against a vengef...</td>\n",
       "      <td>Action</td>\n",
       "      <td>[smuggling, kingpin, faces, vengeful, rival, e...</td>\n",
       "    </tr>\n",
       "    <tr>\n",
       "      <th>3</th>\n",
       "      <td>Kraven the Hunter</td>\n",
       "      <td>kravens complex relationship with his ruthless...</td>\n",
       "      <td>Action</td>\n",
       "      <td>[kravens, complex, relationship, ruthless, fat...</td>\n",
       "    </tr>\n",
       "    <tr>\n",
       "      <th>4</th>\n",
       "      <td>Dune: Part Two</td>\n",
       "      <td>paul atreides unites with the fremen while on ...</td>\n",
       "      <td>Action</td>\n",
       "      <td>[paul, atreides, unites, fremen, warpath, reve...</td>\n",
       "    </tr>\n",
       "    <tr>\n",
       "      <th>...</th>\n",
       "      <td>...</td>\n",
       "      <td>...</td>\n",
       "      <td>...</td>\n",
       "      <td>...</td>\n",
       "    </tr>\n",
       "    <tr>\n",
       "      <th>6225</th>\n",
       "      <td>I am Pandora</td>\n",
       "      <td>its the day of the dead and diego the cutest s...</td>\n",
       "      <td>Fantansy</td>\n",
       "      <td>[day, dead, diego, cutest, skeleton, underworl...</td>\n",
       "    </tr>\n",
       "    <tr>\n",
       "      <th>6226</th>\n",
       "      <td>Les Écorchés - Partie 1</td>\n",
       "      <td>olaneyes parents present her with a strange bi...</td>\n",
       "      <td>Fantansy</td>\n",
       "      <td>[olaneyes, parents, present, strange, bird, 21...</td>\n",
       "    </tr>\n",
       "    <tr>\n",
       "      <th>6227</th>\n",
       "      <td>Four Walls</td>\n",
       "      <td>colos and the rest of the dke must work to sto...</td>\n",
       "      <td>Fantansy</td>\n",
       "      <td>[colos, rest, dke, must, work, stop, darth, av...</td>\n",
       "    </tr>\n",
       "    <tr>\n",
       "      <th>6228</th>\n",
       "      <td>Kamilota</td>\n",
       "      <td>iszu edwin lopez  ring leader of the tennis te...</td>\n",
       "      <td>Fantansy</td>\n",
       "      <td>[iszu, edwin, lopez, ring, leader, tennis, tea...</td>\n",
       "    </tr>\n",
       "    <tr>\n",
       "      <th>6229</th>\n",
       "      <td>Lo chiamavano Marcus</td>\n",
       "      <td>elder ikechukwu uses his superpower to repeate...</td>\n",
       "      <td>Fantansy</td>\n",
       "      <td>[elder, ikechukwu, uses, superpower, repeatedl...</td>\n",
       "    </tr>\n",
       "  </tbody>\n",
       "</table>\n",
       "<p>6230 rows × 4 columns</p>\n",
       "</div>"
      ],
      "text/plain": [
       "                           name  \\\n",
       "0                  Gladiator II   \n",
       "1          Sonic the Hedgehog 3   \n",
       "2     Pushpa: The Rule - Part 2   \n",
       "3             Kraven the Hunter   \n",
       "4                Dune: Part Two   \n",
       "...                         ...   \n",
       "6225               I am Pandora   \n",
       "6226    Les Écorchés - Partie 1   \n",
       "6227                 Four Walls   \n",
       "6228                   Kamilota   \n",
       "6229       Lo chiamavano Marcus   \n",
       "\n",
       "                                                  story     genre  \\\n",
       "0     after his home is conquered by the tyrannical ...    Action   \n",
       "1     sonic knuckles and tails reunite against a pow...    Action   \n",
       "2     a smuggling kingpin faces off against a vengef...    Action   \n",
       "3     kravens complex relationship with his ruthless...    Action   \n",
       "4     paul atreides unites with the fremen while on ...    Action   \n",
       "...                                                 ...       ...   \n",
       "6225  its the day of the dead and diego the cutest s...  Fantansy   \n",
       "6226  olaneyes parents present her with a strange bi...  Fantansy   \n",
       "6227  colos and the rest of the dke must work to sto...  Fantansy   \n",
       "6228  iszu edwin lopez  ring leader of the tennis te...  Fantansy   \n",
       "6229  elder ikechukwu uses his superpower to repeate...  Fantansy   \n",
       "\n",
       "                            tokenized_stopwords_removed  \n",
       "0     [home, conquered, tyrannical, emperors, lead, ...  \n",
       "1     [sonic, knuckles, tails, reunite, powerful, ne...  \n",
       "2     [smuggling, kingpin, faces, vengeful, rival, e...  \n",
       "3     [kravens, complex, relationship, ruthless, fat...  \n",
       "4     [paul, atreides, unites, fremen, warpath, reve...  \n",
       "...                                                 ...  \n",
       "6225  [day, dead, diego, cutest, skeleton, underworl...  \n",
       "6226  [olaneyes, parents, present, strange, bird, 21...  \n",
       "6227  [colos, rest, dke, must, work, stop, darth, av...  \n",
       "6228  [iszu, edwin, lopez, ring, leader, tennis, tea...  \n",
       "6229  [elder, ikechukwu, uses, superpower, repeatedl...  \n",
       "\n",
       "[6230 rows x 4 columns]"
      ]
     },
     "execution_count": 22,
     "metadata": {},
     "output_type": "execute_result"
    }
   ],
   "source": [
    "csv_files"
   ]
  },
  {
   "cell_type": "code",
   "execution_count": null,
   "metadata": {},
   "outputs": [],
   "source": [
    "from nltk.stem import PorterStemmer\n",
    "\n",
    "stemmer = PorterStemmer()  # Initialize the Porter Stemmer\n",
    "\n",
    "stems = []  # Create an empty list to store stemmed words\n",
    "\n",
    "for i in csv_files['tokenized_stopwords_removed']:  # Iterate through each tokenized sentence in the column\n",
    "    stemmers = [stemmer.stem(j) for j in i]  # Apply stemming to each word in the sentence\n",
    "    stems.append(\" \".join(stemmers))  # Join the stemmed words back into a single string\n",
    "\n",
    "csv_files['stemmedword'] = stems  # Store the processed stemmed words in a new column\n"
   ]
  },
  {
   "cell_type": "code",
   "execution_count": 24,
   "metadata": {},
   "outputs": [
    {
     "data": {
      "text/plain": [
       "'home conquer tyrann emperor lead rome luciu forc enter colosseum must look past find strength return glori rome peopl'"
      ]
     },
     "execution_count": 24,
     "metadata": {},
     "output_type": "execute_result"
    }
   ],
   "source": [
    "stems[0]"
   ]
  },
  {
   "cell_type": "code",
   "execution_count": 25,
   "metadata": {},
   "outputs": [
    {
     "name": "stdout",
     "output_type": "stream",
     "text": [
      "0    home conquer tyrann emperor lead rome luciu fo...\n",
      "1    sonic knuckl tail reunit power new adversari s...\n",
      "2    smuggl kingpin face veng rival expand empirh m...\n",
      "3    kraven complex relationship ruthless father ni...\n",
      "4    paul atreid unit fremen warpath reveng conspir...\n",
      "Name: stemmedword, dtype: object\n"
     ]
    }
   ],
   "source": [
    "print(csv_files['stemmedword'].head())"
   ]
  },
  {
   "cell_type": "markdown",
   "metadata": {},
   "source": [
    "## Text Representation:\n"
   ]
  },
  {
   "cell_type": "code",
   "execution_count": null,
   "metadata": {},
   "outputs": [
    {
     "name": "stdout",
     "output_type": "stream",
     "text": [
      "TF-IDF Shape: (6230, 19335)\n"
     ]
    }
   ],
   "source": [
    "from sklearn.feature_extraction.text import TfidfVectorizer\n",
    "\n",
    "\n",
    "# Initialize the TF-IDF vectorizer\n",
    "tfidf_vectorizer = TfidfVectorizer()\n",
    "\n",
    "# Apply TF-IDF transformation on the 'stemmedword' column of csv_files\n",
    "X_tfidf = tfidf_vectorizer.fit_transform(csv_files['stemmedword'])\n",
    "\n",
    "# Print the shape of the resulting TF-IDF matrix\n",
    "print(\"TF-IDF Shape:\", X_tfidf.shape)  # Output dimensions (rows: number of documents, columns: unique words)\n"
   ]
  },
  {
   "cell_type": "code",
   "execution_count": 27,
   "metadata": {},
   "outputs": [
    {
     "name": "stdout",
     "output_type": "stream",
     "text": [
      "PCA Transformed Shape: (6230, 2)\n"
     ]
    }
   ],
   "source": [
    "\n",
    "from sklearn.decomposition import PCA\n",
    "\n",
    "# Convert sparse TF-IDF to dense format\n",
    "X_tfidf_dense = X_tfidf.toarray()\n",
    "\n",
    "# Apply PCA (Reduce to 2D for visualization)\n",
    "pca = PCA(n_components=2)\n",
    "X_pca = pca.fit_transform(X_tfidf_dense)\n",
    "\n",
    "# Check new shape\n",
    "print(\"PCA Transformed Shape:\", X_pca.shape)  # (num_samples, 2)\n"
   ]
  },
  {
   "cell_type": "code",
   "execution_count": 28,
   "metadata": {},
   "outputs": [
    {
     "data": {
      "text/plain": [
       "array([[ 0.01411344, -0.02804454],\n",
       "       [ 0.06070183, -0.0241635 ],\n",
       "       [ 0.01544965,  0.00155689],\n",
       "       ...,\n",
       "       [ 0.02395299, -0.00553387],\n",
       "       [ 0.02430973,  0.01115343],\n",
       "       [ 0.01595784,  0.03756111]])"
      ]
     },
     "execution_count": 28,
     "metadata": {},
     "output_type": "execute_result"
    }
   ],
   "source": [
    "X_pca"
   ]
  },
  {
   "cell_type": "code",
   "execution_count": 29,
   "metadata": {},
   "outputs": [],
   "source": [
    "# TF-IDF VECTORIZER\n",
    "# tfidf_vectorizer = TfidfVectorizer()\n",
    "# TF_vector=[]\n",
    "# for i in csv_files['stemmedword']:\n",
    "#     X_tfidf = tfidf_vectorizer.fit_transform(i)\n",
    "#     TF_vector.append(X_tfidf)"
   ]
  },
  {
   "cell_type": "markdown",
   "metadata": {},
   "source": [
    "## Cosine Similarity:\n"
   ]
  },
  {
   "cell_type": "code",
   "execution_count": null,
   "metadata": {},
   "outputs": [],
   "source": [
    "consine_sim=cosine_similarity(X_pca,X_pca) # check similarity"
   ]
  },
  {
   "cell_type": "code",
   "execution_count": 31,
   "metadata": {},
   "outputs": [],
   "source": [
    "storynames=csv_files['story']"
   ]
  },
  {
   "cell_type": "code",
   "execution_count": 34,
   "metadata": {},
   "outputs": [
    {
     "data": {
      "text/plain": [
       "array([[ 1.        ,  0.74802781,  0.35770791, ...,  0.63907262,\n",
       "         0.03608511, -0.64636248],\n",
       "       [ 0.74802781,  1.        ,  0.88733031, ...,  0.98850147,\n",
       "         0.69022781,  0.02290134],\n",
       "       [ 0.35770791,  0.88733031,  1.        , ...,  0.94685603,\n",
       "         0.94613327,  0.48133449],\n",
       "       ...,\n",
       "       [ 0.63907262,  0.98850147,  0.94685603, ...,  1.        ,\n",
       "         0.79170648,  0.1738096 ],\n",
       "       [ 0.03608511,  0.69022781,  0.94613327, ...,  0.79170648,\n",
       "         1.        ,  0.73920949],\n",
       "       [-0.64636248,  0.02290134,  0.48133449, ...,  0.1738096 ,\n",
       "         0.73920949,  1.        ]])"
      ]
     },
     "execution_count": 34,
     "metadata": {},
     "output_type": "execute_result"
    }
   ],
   "source": [
    "consine_sim"
   ]
  },
  {
   "cell_type": "code",
   "execution_count": 38,
   "metadata": {},
   "outputs": [],
   "source": [
    "complete=pd.DataFrame(consine_sim,index=csv_files['name'],columns=csv_files['name'])"
   ]
  },
  {
   "cell_type": "code",
   "execution_count": 40,
   "metadata": {},
   "outputs": [
    {
     "data": {
      "text/html": [
       "<div>\n",
       "<style scoped>\n",
       "    .dataframe tbody tr th:only-of-type {\n",
       "        vertical-align: middle;\n",
       "    }\n",
       "\n",
       "    .dataframe tbody tr th {\n",
       "        vertical-align: top;\n",
       "    }\n",
       "\n",
       "    .dataframe thead th {\n",
       "        text-align: right;\n",
       "    }\n",
       "</style>\n",
       "<table border=\"1\" class=\"dataframe\">\n",
       "  <thead>\n",
       "    <tr style=\"text-align: right;\">\n",
       "      <th>name</th>\n",
       "      <th>Gladiator II</th>\n",
       "      <th>Sonic the Hedgehog 3</th>\n",
       "      <th>Pushpa: The Rule - Part 2</th>\n",
       "      <th>Kraven the Hunter</th>\n",
       "      <th>Dune: Part Two</th>\n",
       "      <th>Carry-On</th>\n",
       "      <th>Civil War</th>\n",
       "      <th>Deadpool &amp; Wolverine</th>\n",
       "      <th>Marco</th>\n",
       "      <th>The Fall Guy</th>\n",
       "      <th>...</th>\n",
       "      <th>Mom, I'm on Drugs</th>\n",
       "      <th>The Killer Goldfish</th>\n",
       "      <th>Madeline &amp; Silverfrost</th>\n",
       "      <th>The Process of Change</th>\n",
       "      <th>Young doctor's notes</th>\n",
       "      <th>I am Pandora</th>\n",
       "      <th>Les Écorchés - Partie 1</th>\n",
       "      <th>Four Walls</th>\n",
       "      <th>Kamilota</th>\n",
       "      <th>Lo chiamavano Marcus</th>\n",
       "    </tr>\n",
       "    <tr>\n",
       "      <th>name</th>\n",
       "      <th></th>\n",
       "      <th></th>\n",
       "      <th></th>\n",
       "      <th></th>\n",
       "      <th></th>\n",
       "      <th></th>\n",
       "      <th></th>\n",
       "      <th></th>\n",
       "      <th></th>\n",
       "      <th></th>\n",
       "      <th></th>\n",
       "      <th></th>\n",
       "      <th></th>\n",
       "      <th></th>\n",
       "      <th></th>\n",
       "      <th></th>\n",
       "      <th></th>\n",
       "      <th></th>\n",
       "      <th></th>\n",
       "      <th></th>\n",
       "      <th></th>\n",
       "    </tr>\n",
       "  </thead>\n",
       "  <tbody>\n",
       "    <tr>\n",
       "      <th>Gladiator II</th>\n",
       "      <td>1.000000</td>\n",
       "      <td>0.748028</td>\n",
       "      <td>0.357708</td>\n",
       "      <td>0.939973</td>\n",
       "      <td>0.195724</td>\n",
       "      <td>0.823896</td>\n",
       "      <td>-0.924125</td>\n",
       "      <td>-0.992224</td>\n",
       "      <td>0.908533</td>\n",
       "      <td>-0.044702</td>\n",
       "      <td>...</td>\n",
       "      <td>-0.931388</td>\n",
       "      <td>-0.870419</td>\n",
       "      <td>0.536341</td>\n",
       "      <td>0.301395</td>\n",
       "      <td>-0.094608</td>\n",
       "      <td>-0.996139</td>\n",
       "      <td>0.000186</td>\n",
       "      <td>0.639073</td>\n",
       "      <td>0.036085</td>\n",
       "      <td>-0.646362</td>\n",
       "    </tr>\n",
       "    <tr>\n",
       "      <th>Sonic the Hedgehog 3</th>\n",
       "      <td>0.748028</td>\n",
       "      <td>1.000000</td>\n",
       "      <td>0.887330</td>\n",
       "      <td>0.476650</td>\n",
       "      <td>-0.504424</td>\n",
       "      <td>0.992425</td>\n",
       "      <td>-0.437691</td>\n",
       "      <td>-0.659607</td>\n",
       "      <td>0.402320</td>\n",
       "      <td>-0.696442</td>\n",
       "      <td>...</td>\n",
       "      <td>-0.455111</td>\n",
       "      <td>-0.977829</td>\n",
       "      <td>0.961334</td>\n",
       "      <td>-0.407354</td>\n",
       "      <td>-0.731460</td>\n",
       "      <td>-0.803404</td>\n",
       "      <td>-0.663528</td>\n",
       "      <td>0.988501</td>\n",
       "      <td>0.690228</td>\n",
       "      <td>0.022901</td>\n",
       "    </tr>\n",
       "    <tr>\n",
       "      <th>Pushpa: The Rule - Part 2</th>\n",
       "      <td>0.357708</td>\n",
       "      <td>0.887330</td>\n",
       "      <td>1.000000</td>\n",
       "      <td>0.017566</td>\n",
       "      <td>-0.845760</td>\n",
       "      <td>0.823955</td>\n",
       "      <td>0.026242</td>\n",
       "      <td>-0.238696</td>\n",
       "      <td>-0.065178</td>\n",
       "      <td>-0.948890</td>\n",
       "      <td>...</td>\n",
       "      <td>0.006777</td>\n",
       "      <td>-0.771093</td>\n",
       "      <td>0.980010</td>\n",
       "      <td>-0.782598</td>\n",
       "      <td>-0.963487</td>\n",
       "      <td>-0.438310</td>\n",
       "      <td>-0.933767</td>\n",
       "      <td>0.946856</td>\n",
       "      <td>0.946133</td>\n",
       "      <td>0.481334</td>\n",
       "    </tr>\n",
       "    <tr>\n",
       "      <th>Kraven the Hunter</th>\n",
       "      <td>0.939973</td>\n",
       "      <td>0.476650</td>\n",
       "      <td>0.017566</td>\n",
       "      <td>1.000000</td>\n",
       "      <td>0.518625</td>\n",
       "      <td>0.581041</td>\n",
       "      <td>-0.999040</td>\n",
       "      <td>-0.975137</td>\n",
       "      <td>0.996575</td>\n",
       "      <td>0.298890</td>\n",
       "      <td>...</td>\n",
       "      <td>-0.999704</td>\n",
       "      <td>-0.650169</td>\n",
       "      <td>0.216131</td>\n",
       "      <td>0.608684</td>\n",
       "      <td>0.250790</td>\n",
       "      <td>-0.906384</td>\n",
       "      <td>0.341424</td>\n",
       "      <td>0.338240</td>\n",
       "      <td>-0.307108</td>\n",
       "      <td>-0.867947</td>\n",
       "    </tr>\n",
       "    <tr>\n",
       "      <th>Dune: Part Two</th>\n",
       "      <td>0.195724</td>\n",
       "      <td>-0.504424</td>\n",
       "      <td>-0.845760</td>\n",
       "      <td>0.518625</td>\n",
       "      <td>1.000000</td>\n",
       "      <td>-0.394522</td>\n",
       "      <td>-0.555574</td>\n",
       "      <td>-0.316261</td>\n",
       "      <td>0.587553</td>\n",
       "      <td>0.970929</td>\n",
       "      <td>...</td>\n",
       "      <td>-0.539283</td>\n",
       "      <td>0.312427</td>\n",
       "      <td>-0.722703</td>\n",
       "      <td>0.994048</td>\n",
       "      <td>0.957743</td>\n",
       "      <td>-0.108874</td>\n",
       "      <td>0.980695</td>\n",
       "      <td>-0.629188</td>\n",
       "      <td>-0.972958</td>\n",
       "      <td>-0.874782</td>\n",
       "    </tr>\n",
       "    <tr>\n",
       "      <th>...</th>\n",
       "      <td>...</td>\n",
       "      <td>...</td>\n",
       "      <td>...</td>\n",
       "      <td>...</td>\n",
       "      <td>...</td>\n",
       "      <td>...</td>\n",
       "      <td>...</td>\n",
       "      <td>...</td>\n",
       "      <td>...</td>\n",
       "      <td>...</td>\n",
       "      <td>...</td>\n",
       "      <td>...</td>\n",
       "      <td>...</td>\n",
       "      <td>...</td>\n",
       "      <td>...</td>\n",
       "      <td>...</td>\n",
       "      <td>...</td>\n",
       "      <td>...</td>\n",
       "      <td>...</td>\n",
       "      <td>...</td>\n",
       "      <td>...</td>\n",
       "    </tr>\n",
       "    <tr>\n",
       "      <th>I am Pandora</th>\n",
       "      <td>-0.996139</td>\n",
       "      <td>-0.803404</td>\n",
       "      <td>-0.438310</td>\n",
       "      <td>-0.906384</td>\n",
       "      <td>-0.108874</td>\n",
       "      <td>-0.870471</td>\n",
       "      <td>0.887012</td>\n",
       "      <td>0.977466</td>\n",
       "      <td>-0.868345</td>\n",
       "      <td>0.132233</td>\n",
       "      <td>...</td>\n",
       "      <td>0.895833</td>\n",
       "      <td>0.910279</td>\n",
       "      <td>-0.608367</td>\n",
       "      <td>-0.216522</td>\n",
       "      <td>0.181641</td>\n",
       "      <td>1.000000</td>\n",
       "      <td>0.087607</td>\n",
       "      <td>-0.704130</td>\n",
       "      <td>-0.123681</td>\n",
       "      <td>0.576879</td>\n",
       "    </tr>\n",
       "    <tr>\n",
       "      <th>Les Écorchés - Partie 1</th>\n",
       "      <td>0.000186</td>\n",
       "      <td>-0.663528</td>\n",
       "      <td>-0.933767</td>\n",
       "      <td>0.341424</td>\n",
       "      <td>0.980695</td>\n",
       "      <td>-0.566587</td>\n",
       "      <td>-0.382262</td>\n",
       "      <td>-0.124651</td>\n",
       "      <td>0.417982</td>\n",
       "      <td>0.998992</td>\n",
       "      <td>...</td>\n",
       "      <td>-0.364202</td>\n",
       "      <td>0.492149</td>\n",
       "      <td>-0.843901</td>\n",
       "      <td>0.953555</td>\n",
       "      <td>0.995497</td>\n",
       "      <td>0.087607</td>\n",
       "      <td>1.000000</td>\n",
       "      <td>-0.769027</td>\n",
       "      <td>-0.999342</td>\n",
       "      <td>-0.763151</td>\n",
       "    </tr>\n",
       "    <tr>\n",
       "      <th>Four Walls</th>\n",
       "      <td>0.639073</td>\n",
       "      <td>0.988501</td>\n",
       "      <td>0.946856</td>\n",
       "      <td>0.338240</td>\n",
       "      <td>-0.629188</td>\n",
       "      <td>0.962436</td>\n",
       "      <td>-0.296700</td>\n",
       "      <td>-0.538370</td>\n",
       "      <td>0.259260</td>\n",
       "      <td>-0.796945</td>\n",
       "      <td>...</td>\n",
       "      <td>-0.315234</td>\n",
       "      <td>-0.934921</td>\n",
       "      <td>0.991921</td>\n",
       "      <td>-0.540767</td>\n",
       "      <td>-0.826158</td>\n",
       "      <td>-0.704130</td>\n",
       "      <td>-0.769027</td>\n",
       "      <td>1.000000</td>\n",
       "      <td>0.791706</td>\n",
       "      <td>0.173810</td>\n",
       "    </tr>\n",
       "    <tr>\n",
       "      <th>Kamilota</th>\n",
       "      <td>0.036085</td>\n",
       "      <td>0.690228</td>\n",
       "      <td>0.946133</td>\n",
       "      <td>-0.307108</td>\n",
       "      <td>-0.972958</td>\n",
       "      <td>0.596102</td>\n",
       "      <td>0.348494</td>\n",
       "      <td>0.088580</td>\n",
       "      <td>-0.384756</td>\n",
       "      <td>-0.999963</td>\n",
       "      <td>...</td>\n",
       "      <td>0.330182</td>\n",
       "      <td>-0.523400</td>\n",
       "      <td>0.862806</td>\n",
       "      <td>-0.942002</td>\n",
       "      <td>-0.998280</td>\n",
       "      <td>-0.123681</td>\n",
       "      <td>-0.999342</td>\n",
       "      <td>0.791706</td>\n",
       "      <td>1.000000</td>\n",
       "      <td>0.739209</td>\n",
       "    </tr>\n",
       "    <tr>\n",
       "      <th>Lo chiamavano Marcus</th>\n",
       "      <td>-0.646362</td>\n",
       "      <td>0.022901</td>\n",
       "      <td>0.481334</td>\n",
       "      <td>-0.867947</td>\n",
       "      <td>-0.874782</td>\n",
       "      <td>-0.100096</td>\n",
       "      <td>0.888866</td>\n",
       "      <td>0.736308</td>\n",
       "      <td>-0.906045</td>\n",
       "      <td>-0.733374</td>\n",
       "      <td>...</td>\n",
       "      <td>0.879779</td>\n",
       "      <td>0.186958</td>\n",
       "      <td>0.297328</td>\n",
       "      <td>-0.922360</td>\n",
       "      <td>-0.698457</td>\n",
       "      <td>0.576879</td>\n",
       "      <td>-0.763151</td>\n",
       "      <td>0.173810</td>\n",
       "      <td>0.739209</td>\n",
       "      <td>1.000000</td>\n",
       "    </tr>\n",
       "  </tbody>\n",
       "</table>\n",
       "<p>6230 rows × 6230 columns</p>\n",
       "</div>"
      ],
      "text/plain": [
       "name                       Gladiator II  Sonic the Hedgehog 3  \\\n",
       "name                                                            \n",
       "Gladiator II                   1.000000              0.748028   \n",
       "Sonic the Hedgehog 3           0.748028              1.000000   \n",
       "Pushpa: The Rule - Part 2      0.357708              0.887330   \n",
       "Kraven the Hunter              0.939973              0.476650   \n",
       "Dune: Part Two                 0.195724             -0.504424   \n",
       "...                                 ...                   ...   \n",
       "I am Pandora                  -0.996139             -0.803404   \n",
       "Les Écorchés - Partie 1        0.000186             -0.663528   \n",
       "Four Walls                     0.639073              0.988501   \n",
       "Kamilota                       0.036085              0.690228   \n",
       "Lo chiamavano Marcus          -0.646362              0.022901   \n",
       "\n",
       "name                       Pushpa: The Rule - Part 2  Kraven the Hunter  \\\n",
       "name                                                                      \n",
       "Gladiator II                                0.357708           0.939973   \n",
       "Sonic the Hedgehog 3                        0.887330           0.476650   \n",
       "Pushpa: The Rule - Part 2                   1.000000           0.017566   \n",
       "Kraven the Hunter                           0.017566           1.000000   \n",
       "Dune: Part Two                             -0.845760           0.518625   \n",
       "...                                              ...                ...   \n",
       "I am Pandora                               -0.438310          -0.906384   \n",
       "Les Écorchés - Partie 1                    -0.933767           0.341424   \n",
       "Four Walls                                  0.946856           0.338240   \n",
       "Kamilota                                    0.946133          -0.307108   \n",
       "Lo chiamavano Marcus                        0.481334          -0.867947   \n",
       "\n",
       "name                       Dune: Part Two  Carry-On  Civil War  \\\n",
       "name                                                             \n",
       "Gladiator II                     0.195724  0.823896  -0.924125   \n",
       "Sonic the Hedgehog 3            -0.504424  0.992425  -0.437691   \n",
       "Pushpa: The Rule - Part 2       -0.845760  0.823955   0.026242   \n",
       "Kraven the Hunter                0.518625  0.581041  -0.999040   \n",
       "Dune: Part Two                   1.000000 -0.394522  -0.555574   \n",
       "...                                   ...       ...        ...   \n",
       "I am Pandora                    -0.108874 -0.870471   0.887012   \n",
       "Les Écorchés - Partie 1          0.980695 -0.566587  -0.382262   \n",
       "Four Walls                      -0.629188  0.962436  -0.296700   \n",
       "Kamilota                        -0.972958  0.596102   0.348494   \n",
       "Lo chiamavano Marcus            -0.874782 -0.100096   0.888866   \n",
       "\n",
       "name                       Deadpool & Wolverine     Marco  The Fall Guy  ...  \\\n",
       "name                                                                     ...   \n",
       "Gladiator II                          -0.992224  0.908533     -0.044702  ...   \n",
       "Sonic the Hedgehog 3                  -0.659607  0.402320     -0.696442  ...   \n",
       "Pushpa: The Rule - Part 2             -0.238696 -0.065178     -0.948890  ...   \n",
       "Kraven the Hunter                     -0.975137  0.996575      0.298890  ...   \n",
       "Dune: Part Two                        -0.316261  0.587553      0.970929  ...   \n",
       "...                                         ...       ...           ...  ...   \n",
       "I am Pandora                           0.977466 -0.868345      0.132233  ...   \n",
       "Les Écorchés - Partie 1               -0.124651  0.417982      0.998992  ...   \n",
       "Four Walls                            -0.538370  0.259260     -0.796945  ...   \n",
       "Kamilota                               0.088580 -0.384756     -0.999963  ...   \n",
       "Lo chiamavano Marcus                   0.736308 -0.906045     -0.733374  ...   \n",
       "\n",
       "name                       Mom, I'm on Drugs  The Killer Goldfish  \\\n",
       "name                                                                \n",
       "Gladiator II                       -0.931388            -0.870419   \n",
       "Sonic the Hedgehog 3               -0.455111            -0.977829   \n",
       "Pushpa: The Rule - Part 2           0.006777            -0.771093   \n",
       "Kraven the Hunter                  -0.999704            -0.650169   \n",
       "Dune: Part Two                     -0.539283             0.312427   \n",
       "...                                      ...                  ...   \n",
       "I am Pandora                        0.895833             0.910279   \n",
       "Les Écorchés - Partie 1            -0.364202             0.492149   \n",
       "Four Walls                         -0.315234            -0.934921   \n",
       "Kamilota                            0.330182            -0.523400   \n",
       "Lo chiamavano Marcus                0.879779             0.186958   \n",
       "\n",
       "name                       Madeline & Silverfrost  The Process of Change  \\\n",
       "name                                                                       \n",
       "Gladiator II                             0.536341               0.301395   \n",
       "Sonic the Hedgehog 3                     0.961334              -0.407354   \n",
       "Pushpa: The Rule - Part 2                0.980010              -0.782598   \n",
       "Kraven the Hunter                        0.216131               0.608684   \n",
       "Dune: Part Two                          -0.722703               0.994048   \n",
       "...                                           ...                    ...   \n",
       "I am Pandora                            -0.608367              -0.216522   \n",
       "Les Écorchés - Partie 1                 -0.843901               0.953555   \n",
       "Four Walls                               0.991921              -0.540767   \n",
       "Kamilota                                 0.862806              -0.942002   \n",
       "Lo chiamavano Marcus                     0.297328              -0.922360   \n",
       "\n",
       "name                       Young doctor's notes  I am Pandora  \\\n",
       "name                                                            \n",
       "Gladiator II                          -0.094608     -0.996139   \n",
       "Sonic the Hedgehog 3                  -0.731460     -0.803404   \n",
       "Pushpa: The Rule - Part 2             -0.963487     -0.438310   \n",
       "Kraven the Hunter                      0.250790     -0.906384   \n",
       "Dune: Part Two                         0.957743     -0.108874   \n",
       "...                                         ...           ...   \n",
       "I am Pandora                           0.181641      1.000000   \n",
       "Les Écorchés - Partie 1                0.995497      0.087607   \n",
       "Four Walls                            -0.826158     -0.704130   \n",
       "Kamilota                              -0.998280     -0.123681   \n",
       "Lo chiamavano Marcus                  -0.698457      0.576879   \n",
       "\n",
       "name                       Les Écorchés - Partie 1  Four Walls  Kamilota  \\\n",
       "name                                                                       \n",
       "Gladiator II                              0.000186    0.639073  0.036085   \n",
       "Sonic the Hedgehog 3                     -0.663528    0.988501  0.690228   \n",
       "Pushpa: The Rule - Part 2                -0.933767    0.946856  0.946133   \n",
       "Kraven the Hunter                         0.341424    0.338240 -0.307108   \n",
       "Dune: Part Two                            0.980695   -0.629188 -0.972958   \n",
       "...                                            ...         ...       ...   \n",
       "I am Pandora                              0.087607   -0.704130 -0.123681   \n",
       "Les Écorchés - Partie 1                   1.000000   -0.769027 -0.999342   \n",
       "Four Walls                               -0.769027    1.000000  0.791706   \n",
       "Kamilota                                 -0.999342    0.791706  1.000000   \n",
       "Lo chiamavano Marcus                     -0.763151    0.173810  0.739209   \n",
       "\n",
       "name                       Lo chiamavano Marcus  \n",
       "name                                             \n",
       "Gladiator II                          -0.646362  \n",
       "Sonic the Hedgehog 3                   0.022901  \n",
       "Pushpa: The Rule - Part 2              0.481334  \n",
       "Kraven the Hunter                     -0.867947  \n",
       "Dune: Part Two                        -0.874782  \n",
       "...                                         ...  \n",
       "I am Pandora                           0.576879  \n",
       "Les Écorchés - Partie 1               -0.763151  \n",
       "Four Walls                             0.173810  \n",
       "Kamilota                               0.739209  \n",
       "Lo chiamavano Marcus                   1.000000  \n",
       "\n",
       "[6230 rows x 6230 columns]"
      ]
     },
     "execution_count": 40,
     "metadata": {},
     "output_type": "execute_result"
    }
   ],
   "source": [
    "complete"
   ]
  },
  {
   "cell_type": "code",
   "execution_count": null,
   "metadata": {},
   "outputs": [],
   "source": [
    "cleaned_data=pd.DataFrame(csv_files[['name','stemmedword']])# creata dataframe for celaned data"
   ]
  },
  {
   "cell_type": "code",
   "execution_count": null,
   "metadata": {},
   "outputs": [],
   "source": [
    "cleaned_data.to_csv(\"cleaned_data.csv\") # save as csv"
   ]
  },
  {
   "cell_type": "code",
   "execution_count": null,
   "metadata": {},
   "outputs": [],
   "source": []
  },
  {
   "cell_type": "code",
   "execution_count": null,
   "metadata": {},
   "outputs": [],
   "source": []
  },
  {
   "cell_type": "code",
   "execution_count": null,
   "metadata": {},
   "outputs": [],
   "source": []
  },
  {
   "cell_type": "code",
   "execution_count": null,
   "metadata": {},
   "outputs": [],
   "source": []
  },
  {
   "cell_type": "code",
   "execution_count": null,
   "metadata": {},
   "outputs": [],
   "source": []
  },
  {
   "cell_type": "code",
   "execution_count": null,
   "metadata": {},
   "outputs": [],
   "source": []
  },
  {
   "cell_type": "code",
   "execution_count": null,
   "metadata": {},
   "outputs": [],
   "source": []
  },
  {
   "cell_type": "code",
   "execution_count": null,
   "metadata": {},
   "outputs": [],
   "source": []
  },
  {
   "cell_type": "code",
   "execution_count": null,
   "metadata": {},
   "outputs": [],
   "source": []
  },
  {
   "cell_type": "code",
   "execution_count": null,
   "metadata": {},
   "outputs": [],
   "source": []
  },
  {
   "cell_type": "code",
   "execution_count": null,
   "metadata": {},
   "outputs": [],
   "source": []
  },
  {
   "cell_type": "code",
   "execution_count": null,
   "metadata": {},
   "outputs": [],
   "source": []
  },
  {
   "cell_type": "code",
   "execution_count": null,
   "metadata": {},
   "outputs": [],
   "source": []
  },
  {
   "cell_type": "code",
   "execution_count": null,
   "metadata": {},
   "outputs": [],
   "source": []
  },
  {
   "cell_type": "code",
   "execution_count": null,
   "metadata": {},
   "outputs": [],
   "source": []
  },
  {
   "cell_type": "code",
   "execution_count": null,
   "metadata": {},
   "outputs": [],
   "source": []
  },
  {
   "cell_type": "code",
   "execution_count": null,
   "metadata": {},
   "outputs": [],
   "source": []
  },
  {
   "cell_type": "code",
   "execution_count": null,
   "metadata": {},
   "outputs": [],
   "source": []
  },
  {
   "cell_type": "code",
   "execution_count": null,
   "metadata": {},
   "outputs": [],
   "source": []
  },
  {
   "cell_type": "code",
   "execution_count": null,
   "metadata": {},
   "outputs": [],
   "source": []
  },
  {
   "cell_type": "code",
   "execution_count": null,
   "metadata": {},
   "outputs": [],
   "source": []
  },
  {
   "cell_type": "code",
   "execution_count": null,
   "metadata": {},
   "outputs": [],
   "source": []
  },
  {
   "cell_type": "code",
   "execution_count": null,
   "metadata": {},
   "outputs": [],
   "source": []
  },
  {
   "cell_type": "code",
   "execution_count": null,
   "metadata": {},
   "outputs": [],
   "source": []
  },
  {
   "cell_type": "code",
   "execution_count": null,
   "metadata": {},
   "outputs": [],
   "source": []
  },
  {
   "cell_type": "code",
   "execution_count": null,
   "metadata": {},
   "outputs": [],
   "source": []
  },
  {
   "cell_type": "code",
   "execution_count": null,
   "metadata": {},
   "outputs": [],
   "source": []
  },
  {
   "cell_type": "code",
   "execution_count": null,
   "metadata": {},
   "outputs": [],
   "source": []
  },
  {
   "cell_type": "code",
   "execution_count": null,
   "metadata": {},
   "outputs": [],
   "source": []
  },
  {
   "cell_type": "code",
   "execution_count": null,
   "metadata": {},
   "outputs": [],
   "source": []
  },
  {
   "cell_type": "code",
   "execution_count": null,
   "metadata": {},
   "outputs": [],
   "source": []
  },
  {
   "cell_type": "code",
   "execution_count": null,
   "metadata": {},
   "outputs": [],
   "source": []
  },
  {
   "cell_type": "code",
   "execution_count": null,
   "metadata": {},
   "outputs": [],
   "source": []
  },
  {
   "cell_type": "code",
   "execution_count": null,
   "metadata": {},
   "outputs": [],
   "source": []
  },
  {
   "cell_type": "code",
   "execution_count": null,
   "metadata": {},
   "outputs": [],
   "source": []
  },
  {
   "cell_type": "code",
   "execution_count": null,
   "metadata": {},
   "outputs": [],
   "source": []
  },
  {
   "cell_type": "code",
   "execution_count": null,
   "metadata": {},
   "outputs": [],
   "source": []
  },
  {
   "cell_type": "code",
   "execution_count": null,
   "metadata": {},
   "outputs": [],
   "source": []
  },
  {
   "cell_type": "code",
   "execution_count": null,
   "metadata": {},
   "outputs": [],
   "source": []
  },
  {
   "cell_type": "code",
   "execution_count": null,
   "metadata": {},
   "outputs": [],
   "source": []
  },
  {
   "cell_type": "code",
   "execution_count": null,
   "metadata": {},
   "outputs": [],
   "source": []
  },
  {
   "cell_type": "code",
   "execution_count": null,
   "metadata": {},
   "outputs": [],
   "source": []
  },
  {
   "cell_type": "code",
   "execution_count": null,
   "metadata": {},
   "outputs": [],
   "source": []
  },
  {
   "cell_type": "code",
   "execution_count": null,
   "metadata": {},
   "outputs": [],
   "source": []
  },
  {
   "cell_type": "code",
   "execution_count": null,
   "metadata": {},
   "outputs": [],
   "source": []
  },
  {
   "cell_type": "code",
   "execution_count": null,
   "metadata": {},
   "outputs": [],
   "source": []
  },
  {
   "cell_type": "code",
   "execution_count": null,
   "metadata": {},
   "outputs": [],
   "source": []
  },
  {
   "cell_type": "code",
   "execution_count": null,
   "metadata": {},
   "outputs": [],
   "source": []
  },
  {
   "cell_type": "code",
   "execution_count": null,
   "metadata": {},
   "outputs": [],
   "source": []
  },
  {
   "cell_type": "code",
   "execution_count": null,
   "metadata": {},
   "outputs": [],
   "source": []
  },
  {
   "cell_type": "code",
   "execution_count": null,
   "metadata": {},
   "outputs": [],
   "source": []
  },
  {
   "cell_type": "code",
   "execution_count": null,
   "metadata": {},
   "outputs": [],
   "source": []
  },
  {
   "cell_type": "code",
   "execution_count": null,
   "metadata": {},
   "outputs": [],
   "source": []
  },
  {
   "cell_type": "code",
   "execution_count": null,
   "metadata": {},
   "outputs": [],
   "source": []
  },
  {
   "cell_type": "code",
   "execution_count": null,
   "metadata": {},
   "outputs": [],
   "source": []
  },
  {
   "cell_type": "code",
   "execution_count": null,
   "metadata": {},
   "outputs": [],
   "source": []
  },
  {
   "cell_type": "code",
   "execution_count": null,
   "metadata": {},
   "outputs": [],
   "source": []
  },
  {
   "cell_type": "code",
   "execution_count": null,
   "metadata": {},
   "outputs": [],
   "source": []
  },
  {
   "cell_type": "code",
   "execution_count": null,
   "metadata": {},
   "outputs": [],
   "source": []
  },
  {
   "cell_type": "code",
   "execution_count": null,
   "metadata": {},
   "outputs": [],
   "source": []
  },
  {
   "cell_type": "code",
   "execution_count": null,
   "metadata": {},
   "outputs": [],
   "source": []
  },
  {
   "cell_type": "code",
   "execution_count": null,
   "metadata": {},
   "outputs": [],
   "source": []
  },
  {
   "cell_type": "code",
   "execution_count": null,
   "metadata": {},
   "outputs": [],
   "source": []
  }
 ],
 "metadata": {
  "kernelspec": {
   "display_name": "Python 3",
   "language": "python",
   "name": "python3"
  },
  "language_info": {
   "codemirror_mode": {
    "name": "ipython",
    "version": 3
   },
   "file_extension": ".py",
   "mimetype": "text/x-python",
   "name": "python",
   "nbconvert_exporter": "python",
   "pygments_lexer": "ipython3",
   "version": "3.13.2"
  }
 },
 "nbformat": 4,
 "nbformat_minor": 2
}
